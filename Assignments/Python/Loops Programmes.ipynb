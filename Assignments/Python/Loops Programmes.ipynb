{
 "cells": [
  {
   "cell_type": "markdown",
   "metadata": {},
   "source": [
    "# Program to check number is prime number or not\n",
    "\n",
    "#A number is said to be prime if it is only divisible by 1 and itself.\n",
    "number = int(input(\"Enter any number: \"))\n",
    "\n",
    "if number > 1:                         # prime number is always greater than 1\n",
    "    for i in range(2, number):\n",
    "        if (number % i) == 0:\n",
    "            print(number, \"is not a prime number\")\n",
    "            print(i,\"times\",number//i,\"is\",number)  \n",
    "            break\n",
    "    else:\n",
    "        print(number, \"is a prime number\")\n",
    "\n",
    "else:                                  # if the entered number is less than or equal to 1, then it is not prime number \n",
    "    print(number, \"is not a prime number\")"
   ]
  },
  {
   "cell_type": "markdown",
   "metadata": {},
   "source": [
    "# Program to check number is armstrong or not     \n",
    "    \n",
    "#Armstrong number is a number that is equal to the sum of cubes of its digits.\n",
    "num = int(input(\"Enter a number: \"))  \n",
    "sum = 0  \n",
    "temp = num  \n",
    "while temp > 0:\n",
    "    digit = temp % 10  \n",
    "    sum += digit ** 3  \n",
    "    temp //= 10  \n",
    "    \n",
    "if num == sum:  \n",
    "    print(num,\"is an Armstrong number\")  \n",
    "else:  \n",
    "    print(num,\"is not an Armstrong number\")  "
   ]
  },
  {
   "cell_type": "code",
   "execution_count": null,
   "metadata": {},
   "outputs": [],
   "source": [
    "# Program to generate Fibonacci series until 'n' value\n",
    "\n",
    "'''Fibonacci Series is a pattern of numbers \n",
    "where each number is the result of addition of the previous two consecutive numbers.'''\n",
    "\n",
    "n = int(input(\"Enter the value of 'n': \"))\n",
    "a = 0\n",
    "b = 1\n",
    "sum = 0\n",
    "count = 1\n",
    "print(\"Fibonacci Series: \", end = \" \")\n",
    "while(count <= n):\n",
    "    print(sum, end = \" \")\n",
    "    count += 1\n",
    "    a = b\n",
    "    b = sum\n",
    "    sum = a + b"
   ]
  },
  {
   "cell_type": "code",
   "execution_count": 4,
   "metadata": {},
   "outputs": [
    {
     "name": "stdout",
     "output_type": "stream",
     "text": [
      "Enter any number: 6\n",
      "The number is a Perfect number!\n"
     ]
    }
   ],
   "source": [
    "# Program to check number is a perfect number or not\n",
    "\n",
    "n = int(input(\"Enter any number: \"))\n",
    "sum1 = 0\n",
    "for i in range(1, n):\n",
    "    if(n % i == 0):\n",
    "        sum1 = sum1 + i\n",
    "if (sum1 == n):\n",
    "    print(\"The number is a Perfect number!\")\n",
    "else:\n",
    "    print(\"The number is not a Perfect number!\")"
   ]
  },
  {
   "cell_type": "code",
   "execution_count": null,
   "metadata": {},
   "outputs": [],
   "source": [
    "# Program to print factorial of a no.\n",
    "\n",
    "num=int(input('enter a number'))\n",
    "f=1\n",
    "for i in range(1,num+1):\n",
    "    f=f*i\n",
    "print ('factorial of', num, '=',f)"
   ]
  },
  {
   "cell_type": "markdown",
   "metadata": {},
   "source": [
    "# Program to find number is a palendrome or not\n",
    "\n",
    "number=int(input(\"Enter any number:\"))\n",
    "temp=number\n",
    "reverse_num=0\n",
    "while(number>0):\n",
    "    digit=number%10                       #extract last digit of this number\n",
    "    reverse_num=reverse_num*10+digit      #append this digit in reveresed number\n",
    "    number=number//10                     #floor divide the number leave out the last digit from number\n",
    "if(temp==reverse_num):\n",
    "    print(\"The number is palindrome!\")\n",
    "else:\n",
    "    print(\"Not a palindrome!\")"
   ]
  },
  {
   "cell_type": "markdown",
   "metadata": {},
   "source": [
    "# Program to print first 50 prime nos.\n",
    "\n",
    "numr=50\n",
    "print(\"Prime numbers:\",end=' ')\n",
    "for n in range(1,numr):\n",
    "    for i in range(2,n):\n",
    "        if(n%i==0):\n",
    "            break\n",
    "            else:\n",
    "                print(n,end=' ')        "
   ]
  },
  {
   "cell_type": "markdown",
   "metadata": {},
   "source": [
    "# Program to Count Number of Digits in a Number\n",
    "\n",
    "count = 0\n",
    "number = int(input(\"Enter a number \"))\n",
    "\n",
    "while (number > 0):\n",
    "  number = number//10\n",
    "  count = count + 1\n",
    "\n",
    "print (\"Total number of digits : \",count)"
   ]
  },
  {
   "cell_type": "markdown",
   "metadata": {},
   "source": [
    "# Program to Reverse a number\n",
    "\n",
    "num = int(input(\"Enter a number:\"))\n",
    "rev = 0\n",
    "while num > 0:\n",
    "  rem = num % 10  # Finding the remainder\n",
    "  rev = (rev*10) + rem\n",
    "  num = num//10  # Finding the quotient\n",
    "print(\"Reverse of the number:\",rev)"
   ]
  },
  {
   "cell_type": "markdown",
   "metadata": {},
   "source": [
    "# Program to find length of string without using len function\n",
    "\n",
    "str = input(\"Enter a string: \")\n",
    "counter = 0\n",
    "for s in str:\n",
    "    counter = counter+1\n",
    "    print(\"Length of the input string is:\", counter)"
   ]
  },
  {
   "cell_type": "markdown",
   "metadata": {},
   "source": [
    "# Program to print first 50 armstrong nos.\n",
    "\n",
    "lower = 0\n",
    "upper = 50\n",
    " \n",
    "for num in range(lower,upper + 1):\n",
    "  \n",
    "   sum = 0\n",
    " \n",
    "   temp = num\n",
    "   while temp > 0:\n",
    "       digit = temp % 10\n",
    "       sum += digit ** 3\n",
    "       temp //= 10\n",
    " \n",
    "   if num == sum:\n",
    "       print(num)"
   ]
  },
  {
   "cell_type": "code",
   "execution_count": null,
   "metadata": {},
   "outputs": [],
   "source": []
  }
 ],
 "metadata": {
  "kernelspec": {
   "display_name": "Python 3",
   "language": "python",
   "name": "python3"
  },
  "language_info": {
   "codemirror_mode": {
    "name": "ipython",
    "version": 3
   },
   "file_extension": ".py",
   "mimetype": "text/x-python",
   "name": "python",
   "nbconvert_exporter": "python",
   "pygments_lexer": "ipython3",
   "version": "3.8.5"
  }
 },
 "nbformat": 4,
 "nbformat_minor": 4
}
