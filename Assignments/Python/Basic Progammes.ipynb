{
 "cells": [
  {
   "cell_type": "markdown",
   "metadata": {},
   "source": [
    "# Arithmetic Operations\n",
    "\n",
    "#Addition\n",
    "\n",
    "a=int(input(\"Enter 1st Number:\"))       #Take 1st Number from User\n",
    "b=int(input(\"Enter 2nd Number:\"))       #Take 2nd Number from User\n",
    "c=a+b                                   #Perform Addition of 1st and 2nd Number\n",
    "print(\"Result:\",c)                      #Print result\n",
    "\n",
    "#Subtraction\n",
    "\n",
    "a=int(input(\"Enter 1st Number:\"))       #Take 1st Number from User\n",
    "b=int(input(\"Enter 2nd Number:\"))       #Take 2nd Number from User\n",
    "c=a-b                                   #Perform Subtraction of 1st and 2nd Number\n",
    "print(\"Result:\",c)                      #Print result\n",
    "\n",
    "#Multiplication\n",
    "\n",
    "a=int(input(\"Enter 1st Number:\"))        #Take 1st Number from User\n",
    "b=int(input(\"Enter 2nd Number:\"))        #Take 2nd Number from User\n",
    "c=a*b                                    #Perform Multiplication of 1st and 2nd Number\n",
    "print(\"Result:\",c)                       #Print result\n",
    "\n",
    "#Division\n",
    "a=int(input(\"Enter 1st Number:\"))        #Take 1st Number from User\n",
    "b=int(input(\"Enter 2nd Number:\"))        #Take 2nd Number from User\n",
    "c=a/b                                    #Perform Division of 1st and 2nd Number\n",
    "print(\"Result:\",c)                       #Print result\n",
    "\n",
    "#Modulus\n",
    "a=int(input(\"Enter 1st Number:\"))        #Take 1st Number from User\n",
    "b=int(input(\"Enter 2nd Number:\"))        #Take 2nd Number from User\n",
    "c=a%b                                    #Perform Modulus of 1st and 2nd Number\n",
    "print(\"Result:\",c)                       #Print result"
   ]
  },
  {
   "cell_type": "code",
   "execution_count": null,
   "metadata": {},
   "outputs": [],
   "source": [
    "# Area of following shapes:\n",
    "\n",
    "#Circle\n",
    "\n",
    "radius=int(input(\"Enter radius:\"))         #Take radius as input from User\n",
    "Area_Circle=3.14*radius**2                 #Area of Circle=22/7*r*r \n",
    "print(\"Area of Circle:\",Area_Circle)       #Print Result\n",
    "\n",
    "#Rectangle\n",
    "\n",
    "length=int(input(\"Enter Length:\"))          #Take length as input from User\n",
    "width=int(input(\"Enter Width:\"))            #Take width as input from User\n",
    "Area_Rectangle=length*width                 #Area of Rectangle=length*width\n",
    "print(\"Area of Rectangle:\",Area_Rectangle)  #Print Result\n",
    "\n",
    "#Square\n",
    "\n",
    "side=int(input(\"Enter Side:\"))              #Take Side as input from User\n",
    "Area_Square=side*side                       #Area of Square=side*side\n",
    "print(\"Area of Square:\",Area_Square)        #Print Result\n",
    "\n",
    "#Triangle\n",
    "\n",
    "base=int(input(\"Enter Base:\"))              #Take Base as input from User\n",
    "height=int(input(\"Enter Height:\"))          #Take Height as input from User\n",
    "Area_Triangle=1/2*base*height               #Area of Triangle=1/2*base*height\n",
    "print(\"Area of Triangle:\",Area_Triangle)    #Print Result"
   ]
  },
  {
   "cell_type": "markdown",
   "metadata": {},
   "source": [
    "# Program to swap 2 variables\n",
    "\n",
    "first_number=int(input(\"Enter 1st Number:\"))   #Take 1st Number from User\n",
    "second_number=int(input(\"Enter 2nd Number:\"))  #Take 2nd Number from User\n",
    "temp = first_number                            #Assigning first_number to another variable\n",
    "first_number = second_number                   #Making first_number and second_number equal\n",
    "second_number = temp                           #Assigning temp value to second_number\n",
    "print('The value of 1st Number after swapping: {}'.format(first_number))  #Result after swapping 2 nos\n",
    "print('The value of 2nd Number after swapping: {}'.format(second_number)) #Result after swapping 2 nos"
   ]
  },
  {
   "cell_type": "markdown",
   "metadata": {},
   "source": [
    "# Program to swap 2 variables without using 3rd variable\n",
    "\n",
    "x=int(input(\"Enter 1st Number:\"))                 #Take 1st Number from User\n",
    "y=int(input(\"Enter 2nd Number:\"))                 #Take 2nd Number from User\n",
    "x+=y                                              #x=x+y\n",
    "y=x-y                                            \n",
    "x-=y                                              #x=x-y \n",
    "print(\"The value of x after swapping: \",x)        #Result after swapping x\n",
    "print(\"The value of y after swapping: \",y)        #Result after swapping y"
   ]
  },
  {
   "cell_type": "code",
   "execution_count": null,
   "metadata": {},
   "outputs": [],
   "source": [
    "# Program to calculate Simple Interest\n",
    "\n",
    "principal=float(input(\"Enter Principal:\"))          #Take Principal from User\n",
    "years=int(input(\"Enter No. of Months:\"))            #Take Months from User\n",
    "rate=float(input(\"Enter Rate Of Interest:\"))        #Take Rate of Interest from User\n",
    "Simple_Interest=principal*years*rate/100            #Simple Interest=Principal*Years*Rate/100(PNR/100)                                        \n",
    "print(\"Result: \",Simple_Interest)                   #Result of Simple Interest\n",
    "\n"
   ]
  },
  {
   "cell_type": "markdown",
   "metadata": {},
   "source": [
    "# Program to calculate average of 5 nos.\n",
    "\n",
    "a=float(input(\"Enter 1st Number:\"))          '''Taking 5 decimal nos. from the user'''\n",
    "b=float(input(\"Enter 2nd Number:\"))           \n",
    "c=float(input(\"Enter 3rd Number:\"))\n",
    "d=float(input(\"Enter 4th Number:\"))\n",
    "e=float(input(\"Enter 5th Number:\"))\n",
    "f=(a+b+c+d+e)/5                              '''Dividing 5 decimal nos. with total nos.'''\n",
    "print(\"Average of 5 nos.:\",f) \n"
   ]
  },
  {
   "cell_type": "markdown",
   "metadata": {},
   "source": [
    "# Volume of following shapes:\n",
    "\n",
    "#Cone\n",
    "\n",
    "radius=int(input(\"Enter Radius:\"))                  #Take Radius from User\n",
    "height=int(input(\"Enter Height:\"))                  #Take Height from User\n",
    "volume_cone=(3.14*radius**2*height)/3               #Volume=(3.14*radius*radius*height)/3\n",
    "print(\"Volume of Cone is: \",volume_cone)            #Result of Volume of Cone\n",
    "\n",
    "#Cyclinder\n",
    "\n",
    "radius=int(input(\"Enter Radius:\"))                  #Take Radius from User\n",
    "height=int(input(\"Enter Height:\"))                  #Take Height from User\n",
    "volume_cyclinder=3.14*radius**2*height              #Volume=3.14*radius*radius*height\n",
    "print(\"Volume of Cyclinder is: \",volume_cyclinder)  #Result of Volume of Cyclinder\n",
    "\n",
    "#Cuboid\n",
    "\n",
    "length=int(input(\"Enter Length:\"))                  #Take Length from User\n",
    "width=int(input(\"Enter Width:\"))                    #Take Width from User\n",
    "height=int(input(\"Enter Height:\"))                  #Take Height from User\n",
    "volume_cuboid=length*width*height                   #Volume=length*width*height\n",
    "print(\"Volume of Cuboid is: \",volume_cuboid)        #Result of Volume of Cuboid"
   ]
  },
  {
   "cell_type": "markdown",
   "metadata": {},
   "source": [
    "# Calculate Net Salary of an employee whos basic salary is given by user   #(Note HRA, DA and PF are 15%,10%and 7% of basic salary respectively.)\n",
    "\n",
    "basic_salary=int(input(\"Enter Basic Salary:\"))      #Take Basic Salary from User\n",
    "HRA=basic_salary*0.15                               #Calculate HRA\n",
    "DA=basic_salary*0.1                                 #Calculate DA\n",
    "PF=basic_salary*0.07                                #Calculate PF\n",
    "net_salary=basic_salary+HRA+DA+PF                   #Add all parameters to get net salary \n",
    "print(\"Net Salary is: \",net_salary)                 #Result show of Net Salary"
   ]
  },
  {
   "cell_type": "markdown",
   "metadata": {},
   "source": [
    "# Find quadratic equation d=b**2-4ac\n",
    "\n",
    "a = int(input('Please Enter the 1st value for point a: '))      #Take 3 point's as a input value \n",
    "b = int(input('Please Enter the 2nd value for point b: '))\n",
    "c = int(input('Please Enter the 3rd value for point c: '))\n",
    "discriminant = (b**2) - (4*a*c)                                 #Calculate the Discriminant value.\n",
    "print (\"The value of Discriminant is: \", discriminant)          #Print value of Discriminant"
   ]
  },
  {
   "cell_type": "markdown",
   "metadata": {},
   "source": [
    "# Program to reverse 2 digit no.\n",
    "\n",
    "Num = int(input(\"Please Enter 2 Digit Number: \"))\n",
    " \n",
    "Result = 0\n",
    "def Result_Int(Num):\n",
    "    global Result\n",
    "    if(Num > 0):\n",
    "        Reminder = Num %10\n",
    "        Result = (Result *10) + Reminder\n",
    "        Result_Int(Num //10)\n",
    "    return Result\n",
    " \n",
    "Result = Result_Int(Num)\n",
    "print(\"Reverse of entered number is = \",Result)"
   ]
  }
 ],
 "metadata": {
  "kernelspec": {
   "display_name": "Python 3",
   "language": "python",
   "name": "python3"
  },
  "language_info": {
   "codemirror_mode": {
    "name": "ipython",
    "version": 3
   },
   "file_extension": ".py",
   "mimetype": "text/x-python",
   "name": "python",
   "nbconvert_exporter": "python",
   "pygments_lexer": "ipython3",
   "version": "3.8.5"
  }
 },
 "nbformat": 4,
 "nbformat_minor": 4
}
