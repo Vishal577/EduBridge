{
 "cells": [
  {
   "cell_type": "markdown",
   "metadata": {},
   "source": [
    "# Program to check a number is odd or even\n",
    "\n",
    "number = int(input(\"Enter a number:\"))                #Take number from user\n",
    "if number%2==0:                                       #If remainder is 0, it is an even number, else odd number \n",
    "        print(\"Number\",number,\"is an even number\")    #Print number if it is even \n",
    "else:\n",
    "        print(\"Number\",number,\"is an odd number\")     #Print number if it is odd"
   ]
  },
  {
   "cell_type": "markdown",
   "metadata": {},
   "source": [
    "# Program to check a year is leap year or not\n",
    "\n",
    "year = int(input(\"Enter a year: \"))\n",
    "\n",
    "if year % 4 == 0:              #If a year is divisible by 4 means having no remainder then go to next step\n",
    "    if year % 100 == 0:        \n",
    "        if year % 400 == 0:    \n",
    "            print(year,\"is a leap year\")\n",
    "        else:\n",
    "            print(year,\"is not a leap year\")     #If a year is divisible by 100, but not by 400\n",
    "    else:\n",
    "        print(year,\"is a leap year\")             #If a year is divisible by 4, but not by 100\n",
    "else:\n",
    "    print(year,\"is not a leap year\")"
   ]
  },
  {
   "cell_type": "markdown",
   "metadata": {},
   "source": [
    "# Program to calculate grade of a student on the basis of given criteria: marks>90:Grade=A,marks>70:Grade=B,marks>65:Grade C,marks>55:Grade D\n",
    "\n",
    "marks = int(input(\"Enter marks:\"))                #Take marks from user\n",
    "if marks>90:                                      #If marks>90, Grade A\n",
    "    print(\"Grade is A\")                           \n",
    "elif marks>70:                                    #If marks>70, Grade B\n",
    "    print(\"Grade is B\")\n",
    "elif marks>65:                                    #If marks>65, Grade C\n",
    "    print(\"Grade is C\")\n",
    "elif marks>55:                                    #If marks>55, Grade D\n",
    "    print(\"Grade is D\")\n",
    "else:\n",
    "    print(\"Sorry.Your are failed!\")"
   ]
  },
  {
   "cell_type": "markdown",
   "metadata": {},
   "source": [
    "# Program to calculate Electricity Bill #1-100 unit - 1/= #101-200 unit - 1.5/= #201-300 unit - 2/= #301-400 unit - 3/= #above 400 - fixed charge 1500/=\n",
    "\n",
    "units=int(input(\"Enter the number of units you consumed in a month:\"))\n",
    "if units>0 and units<=100:\n",
    "    payAmount=units*1\n",
    "    fixedCharge=25.00\n",
    "elif units>100 and units<=200:\n",
    "    payAmount=(100*1)+(units-100)*1.5\n",
    "    fixedCharge=50.00\n",
    "elif units>200 and units<=300:\n",
    "    payAmount=(100*1)+(200-100)*1.5+(units-200)*2\n",
    "    fixedCharge=75.00\n",
    "elif units>300 and units<=400:\n",
    "    payAmount=(100*1)+(200-100)*1.5+(300-200)*2+(units-300)*3\n",
    "    fixedCharge=100.00\n",
    "else:\n",
    "    payAmount=0\n",
    "    fixedCharge=1500.00\n",
    "Total=payAmount+fixedCharge;\n",
    "print(\"Electicity bill=\",Total)"
   ]
  },
  {
   "cell_type": "markdown",
   "metadata": {},
   "source": [
    "# Program to enter a number between 1-7 and print respective Day\n",
    "\n",
    "number = int(input(\"Enter a number between 1-7: \"))\n",
    "if number==1:\n",
    "    print(\"Today is Monday\")\n",
    "elif number==2:\n",
    "    print(\"Today is Tuesday\")\n",
    "elif number==3:\n",
    "    print(\"Today is Wednesday\")\n",
    "elif number==4:\n",
    "    print(\"Today is Thursday\")\n",
    "elif number==5:\n",
    "    print(\"Today is Friday\")\n",
    "elif number==6:\n",
    "    print(\"Today is Saturday\")\n",
    "elif number==7:\n",
    "    print(\"Today is Sunday\")\n",
    "else:\n",
    "    print(\"Incorrect number\")   \n"
   ]
  },
  {
   "cell_type": "markdown",
   "metadata": {},
   "source": [
    "# Program to print 3 numbers and in ascending order\n",
    "\n",
    "one = int(input(\"Please input first number : \"))        #Input first number from user\n",
    "two = int(input(\"Please input second number : \"))       #Input second number from user\n",
    "three = int(input(\"Please input third number : \"))      #Input third number from user\n",
    "\n",
    "if one < two and three < two:                           #If two is greater than one and three\n",
    "    if one > three:                                     \n",
    "        print(three, one, two)\n",
    "    else:\n",
    "        print(one, three, two)\n",
    "elif one < three and two < three:                       #If three is greater than one and two \n",
    "    if one > two:\n",
    "        print(two, one, three)\n",
    "    else:\n",
    "        print(one, two, three)        \n",
    "elif two < one and three < one:                         #If one is greater than two and three\n",
    "    if three > two:\n",
    "        print(two, three, one)\n",
    "    else:\n",
    "        print(three, two, one)\n",
    "else:\n",
    "    print(one, two, three)"
   ]
  },
  {
   "cell_type": "code",
   "execution_count": 3,
   "metadata": {},
   "outputs": [
    {
     "name": "stdout",
     "output_type": "stream",
     "text": [
      "Menu Driven Program\n",
      "1.Area of Circle\n",
      "2.Area of Rectangle\n",
      "3.Area of Triangle\n",
      "4.Area of Square\n",
      "5.Exit\n",
      "Enter your choice:1\n",
      "Enter radius of Circle:20\n",
      "Area of Circle: 1256.0\n",
      "Menu Driven Program\n",
      "1.Area of Circle\n",
      "2.Area of Rectangle\n",
      "3.Area of Triangle\n",
      "4.Area of Square\n",
      "5.Exit\n",
      "Enter your choice:5\n"
     ]
    }
   ],
   "source": [
    "# Menu Driven Program to calculate Area of following Shapes:Circle,Rectangle,Triangle,Square\n",
    "\n",
    "import mydata as m\n",
    "\n",
    "while True:\n",
    "    print(\"Menu Driven Program\")\n",
    "    print(\"1.Area of Circle\")\n",
    "    print(\"2.Area of Rectangle\")\n",
    "    print(\"3.Area of Triangle\")\n",
    "    print(\"4.Area of Square\")    \n",
    "    print(\"5.Exit\")\n",
    "    choice=int(input(\"Enter your choice:\"))\n",
    "\n",
    "    if choice==1:\n",
    "        radius=int(input(\"Enter radius of Circle:\"))\n",
    "        m.Circle(radius)\n",
    "\n",
    "    elif choice==2:\n",
    "        length=int(input(\"Enter length of Rectangle:\"))\n",
    "        breadth=int(input(\"Enter width of Rectangle:\"))\n",
    "        m.Rectangle(length,breadth)\n",
    "        \n",
    "    elif choice==3:\n",
    "        base=int(input(\"Enter base of Triangle:\"))\n",
    "        height=int(input(\"Enter height of Triangle:\"))\n",
    "        m.Triangle(base,height)\n",
    "    \n",
    "    elif choice==4:\n",
    "        side=int(input(\"Enter side of Square:\"))\n",
    "        m.Square(side)\n",
    "\n",
    "    elif choice==5:\n",
    "        break\n",
    "    else:\n",
    "        print(\"Wrong Choice\")"
   ]
  },
  {
   "cell_type": "code",
   "execution_count": null,
   "metadata": {},
   "outputs": [],
   "source": []
  }
 ],
 "metadata": {
  "kernelspec": {
   "display_name": "Python 3",
   "language": "python",
   "name": "python3"
  },
  "language_info": {
   "codemirror_mode": {
    "name": "ipython",
    "version": 3
   },
   "file_extension": ".py",
   "mimetype": "text/x-python",
   "name": "python",
   "nbconvert_exporter": "python",
   "pygments_lexer": "ipython3",
   "version": "3.8.5"
  }
 },
 "nbformat": 4,
 "nbformat_minor": 4
}
